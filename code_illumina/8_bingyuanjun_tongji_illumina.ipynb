{
 "cells": [
  {
   "cell_type": "code",
   "execution_count": null,
   "id": "fcfec091",
   "metadata": {},
   "outputs": [],
   "source": [
    "#####good_保持这个ulumina_5_blastn_test数目*（平均值/76），相乘，测试16_yan这个样本\n",
    "import pandas as pd\n",
    "import numpy as np\n",
    "\n",
    "\n",
    "\n",
    "with open(r\"G:\\湖南文理学院\\常德卫生项目申请\\医卫类\\二代测序文章下载\\16_ulumina.list.txt\") as dff:\n",
    "    d=dff.readlines()\n",
    "    for name in d:\n",
    "        fpath = (r\"G:\\湖南文理学院\\常德卫生项目申请\\医卫类\\二代测序文章下载\\yan_6_blastn_ulumina_v4\\%s_clean.out.txt\"%(name.rstrip()))\n",
    "        \n",
    "         #####读入文件\n",
    "        f = pd.read_table(fpath,header=None)\n",
    "\n",
    "        f[12]=np.rint(f[2]*f[3]*0.01)  # ∑Xi*Yi\n",
    "\n",
    "        df = pd.DataFrame([f.groupby(1)[0].nunique(), \n",
    "                           f.groupby(1)[12].sum() / f.groupby(1)[0].count(), \n",
    "                           \n",
    "                           f.groupby(1)[12].sum(),\n",
    "                           f.groupby(1)[0].nunique() / f[0].nunique(),\n",
    "                           (f.groupby(1)[0].nunique())* (f.groupby(1)[12].sum() / f.groupby(1)[0].count())*(f.groupby(1)[12].sum())*(f.groupby(1)[0].nunique() / f[0].nunique()),\n",
    "                           (f.groupby(1)[0].nunique())* (f.groupby(1)[12].sum() / f.groupby(1)[0].count())*(f.groupby(1)[12].sum())*(f.groupby(1)[0].nunique() / f[0].nunique()) / ((f.groupby(1)[0].nunique())* (f.groupby(1)[12].sum() / f.groupby(1)[0].count())*(f.groupby(1)[12].sum())*(f.groupby(1)[0].nunique() / f[0].nunique())).sum(),\n",
    "                          ((f.groupby(1)[0].nunique())*(f.groupby(1)[12].sum() / f.groupby(1)[0].count())*(1/76))]).T\n",
    "                            \n",
    "\n",
    "        df.columns = ['number_of_matches', 'average','sum', 'reads_ratio','all_sum','all_ratio','product' ]\n",
    "        df.sort_values('product', ascending=False, inplace=True) # 按product从高到低排序\n",
    "        \n",
    "        #df.to_excel('P9.3.out.xlsx') \n",
    "        ####保存到文件夹\n",
    "       \n",
    "        \n",
    "        df.to_csv(r\"G:\\湖南文理学院\\常德卫生项目申请\\医卫类\\二代测序文章下载\\yan_6_blastn_tongji_xiangcheng_v4\\%s.csv\"%(name.rstrip()))"
   ]
  }
 ],
 "metadata": {
  "kernelspec": {
   "display_name": "Python 3 (ipykernel)",
   "language": "python",
   "name": "python3"
  },
  "language_info": {
   "codemirror_mode": {
    "name": "ipython",
    "version": 3
   },
   "file_extension": ".py",
   "mimetype": "text/x-python",
   "name": "python",
   "nbconvert_exporter": "python",
   "pygments_lexer": "ipython3",
   "version": "3.9.7"
  }
 },
 "nbformat": 4,
 "nbformat_minor": 5
}
